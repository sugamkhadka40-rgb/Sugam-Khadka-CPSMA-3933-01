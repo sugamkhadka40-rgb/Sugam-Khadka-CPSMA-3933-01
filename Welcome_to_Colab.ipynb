{
  "cells": [
    {
      "cell_type": "markdown",
      "metadata": {
        "id": "view-in-github",
        "colab_type": "text"
      },
      "source": [
        "<a href=\"https://colab.research.google.com/github/sugamkhadka40-rgb/Sugam-Khadka-CPSMA-3933-01/blob/main/Welcome_to_Colab.ipynb\" target=\"_parent\"><img src=\"https://colab.research.google.com/assets/colab-badge.svg\" alt=\"Open In Colab\"/></a>"
      ]
    },
    {
      "cell_type": "markdown",
      "source": [
        "# 2023 US Federal Income Tax Calculator\n",
        "\n",
        "In the United States, federal income tax uses a **progressive tax system**.  \n",
        "This means income is divided into brackets, and each bracket is taxed at a different rate.  \n",
        "\n",
        "The following Python function implements this system and computes the correct tax for any income level.\n"
      ],
      "metadata": {
        "id": "UgA5Gz4QIs9b"
      }
    },
    {
      "cell_type": "code",
      "source": [
        "def tax(income: float) -> float:\n",
        "\n",
        "    if income <= 11000:\n",
        "        return income * 0.10\n",
        "    elif income <= 44725:\n",
        "        return 1100 + 0.12 * (income - 11000)\n",
        "    elif income <= 95375:\n",
        "        return 5147 + 0.22 * (income - 44725)\n",
        "    elif income <= 182100:\n",
        "        return 16290 + 0.24 * (income - 95375)\n",
        "    elif income <= 231250:\n",
        "        return 37104 + 0.32 * (income - 182100)\n",
        "    elif income <= 578125:\n",
        "        return 52832 + 0.35 * (income - 231250)\n",
        "    else:\n",
        "        return 174238.25 + 0.37 * (income - 578125)\n",
        "\n",
        "\n",
        "print(\"Tax on $50,000 income:\", tax(50000))\n",
        "print(\"Tax on $100,000 income:\", tax(100000))\n",
        "print(\"Tax on $250,000 income:\", tax(250000))\n",
        "print(\"Tax on $600,000 income:\", tax(600000))\n"
      ],
      "metadata": {
        "id": "IExEfL6DHnb-",
        "outputId": "9269c05a-93d2-45d9-a17d-4f47c169e4e7",
        "colab": {
          "base_uri": "https://localhost:8080/"
        }
      },
      "execution_count": 21,
      "outputs": [
        {
          "output_type": "stream",
          "name": "stdout",
          "text": [
            "Tax on $50,000 income: 6307.5\n",
            "Tax on $100,000 income: 17400.0\n",
            "Tax on $250,000 income: 59394.5\n",
            "Tax on $600,000 income: 182332.0\n"
          ]
        }
      ]
    },
    {
      "cell_type": "markdown",
      "source": [
        "### Derivative of ln(x) at x = 1\n",
        "\n",
        "We want to show that the derivative of **ln(x)** at **x = 1** is equal to 1.  \n",
        "\n",
        "\n",
        "We will test this numerically using smaller and smaller values of \\(h\\), and observe that the result approaches 1.  \n",
        "\n",
        "Extra Challenge: use the **sympy** library to compute the derivative and limit symbolically.\n"
      ],
      "metadata": {
        "id": "qKgM6mduJsZo"
      }
    },
    {
      "cell_type": "code",
      "source": [
        "import numpy as np\n",
        "import sympy as sp\n",
        "\n",
        "h = [1, 0.1, 0.001, 0.002, 0.0001, 0.000000001]\n",
        "\n",
        "for val in h:\n",
        "    result = (np.log(1 + val) - np.log(1)) / val\n",
        "    print(f\"h = {val:<12} → {(result):.10f}\")\n",
        "\n",
        "x = sp.symbols('x')\n",
        "f = sp.log(x)\n",
        "derivative = sp.diff(f, x).subs(x, 1)\n",
        "limit = sp.limit((sp.log(1 + sp.Symbol('h')) - sp.log(1)) / sp.Symbol('h'), sp.Symbol('h'), 0)\n",
        "\n",
        "print(\"\\nSympy derivative at x=1:\", derivative)\n",
        "print(\"Sympy limit result:\", limit)\n"
      ],
      "metadata": {
        "id": "2Y0XeVC9JydU",
        "outputId": "40424551-1bc9-491a-ce4c-412e3605ea8e",
        "colab": {
          "base_uri": "https://localhost:8080/"
        }
      },
      "execution_count": 22,
      "outputs": [
        {
          "output_type": "stream",
          "name": "stdout",
          "text": [
            "h = 1            → 0.6931471806\n",
            "h = 0.1          → 0.9531017980\n",
            "h = 0.001        → 0.9995003331\n",
            "h = 0.002        → 0.9990013313\n",
            "h = 0.0001       → 0.9999500033\n",
            "h = 1e-09        → 1.0000000822\n",
            "\n",
            "Sympy derivative at x=1: 1\n",
            "Sympy limit result: 1\n"
          ]
        }
      ]
    },
    {
      "cell_type": "markdown",
      "source": [
        "### Truth of Summation\n",
        "\n",
        "We want to verify the identity:\n",
        "\n",
        "\n",
        "We will check this by computing both sides in Python and comparing the results.  \n",
        "\n",
        "Extra Challenge: Reduce the output to a single `True` or `False` showing whether the identity holds for all tested values.\n"
      ],
      "metadata": {
        "id": "dTqUDffyKDt-"
      }
    },
    {
      "cell_type": "code",
      "source": [
        "def verify_identity(limit=1000):\n",
        "    for n in range(limit+1):\n",
        "        lhs = sum(i**3 for i in range(n+1))\n",
        "        rhs = (n*(n+1)//2)**2\n",
        "        if lhs != rhs:\n",
        "            return False\n",
        "    return True\n",
        "\n",
        "print(\"Does the summation identity hold for all n ≤ 1000?\")\n",
        "print(verify_identity())\n"
      ],
      "metadata": {
        "id": "_73S6MP7KNlK",
        "outputId": "4b706afc-527b-40c6-9c3a-aed2ae260c1b",
        "colab": {
          "base_uri": "https://localhost:8080/"
        }
      },
      "execution_count": 23,
      "outputs": [
        {
          "output_type": "stream",
          "name": "stdout",
          "text": [
            "Does the summation identity hold for all n ≤ 1000?\n",
            "True\n"
          ]
        }
      ]
    }
  ],
  "metadata": {
    "colab": {
      "name": "Welcome to Colab",
      "toc_visible": true,
      "provenance": [],
      "include_colab_link": true
    },
    "kernelspec": {
      "display_name": "Python 3",
      "name": "python3"
    }
  },
  "nbformat": 4,
  "nbformat_minor": 0
}