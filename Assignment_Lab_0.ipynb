{
  "cells": [
    {
      "cell_type": "markdown",
      "metadata": {
        "id": "view-in-github",
        "colab_type": "text"
      },
      "source": [
        "<a href=\"https://colab.research.google.com/github/sugamkhadka40-rgb/Sugam-Khadka-CPSMA-3933-01/blob/main/Assignment_Lab_0.ipynb\" target=\"_parent\"><img src=\"https://colab.research.google.com/assets/colab-badge.svg\" alt=\"Open In Colab\"/></a>"
      ]
    },
    {
      "cell_type": "markdown",
      "id": "0b9d4350",
      "metadata": {
        "id": "0b9d4350"
      },
      "source": [
        "# Assignment LAB-0\n",
        "### Name: Sugam Khadka\n",
        "### Class: CPSMA 3933-01\n"
      ]
    },
    {
      "cell_type": "markdown",
      "id": "6cfdc54a",
      "metadata": {
        "id": "6cfdc54a"
      },
      "source": [
        "#### My Favorite Function: max()  \n",
        "I like the max() function because it quickly finds the largest value in a list, string, or set of numbers. Instead of writing long loops, I can just use max() to get the answer immediately. This is especially helpful when working with data."
      ]
    },
    {
      "cell_type": "code",
      "execution_count": null,
      "id": "289ae72d",
      "metadata": {
        "id": "289ae72d"
      },
      "outputs": [],
      "source": [
        "numbers = [12, 45, 3, 98, 23, 56, 77]\n",
        "\n",
        "largestnumber = max(numbers)\n",
        "\n",
        "print(\"The largest number is:\", largestnumber)"
      ]
    },
    {
      "cell_type": "markdown",
      "source": [
        "### How I Got the Values\n",
        "\n",
        "I made a list of the first 10 multiples of 5. I started with 5 and added 5 each time until I had 10 numbers: 5, 10, 15, 20, 25, 30, 35, 40, 45, and 50.\n",
        "\n",
        "Then, I calculated the sum by adding all the numbers together. The minimum iss the smallest number in the list, the maximum is the largest, and the count is how many numbers are in the list."
      ],
      "metadata": {
        "id": "NCqD8-lQUdZf"
      },
      "id": "NCqD8-lQUdZf"
    },
    {
      "cell_type": "code",
      "source": [
        "my_list = [5, 10, 15, 20, 25, 30, 35, 40, 45, 50]\n",
        "\n",
        "total = sum(my_list)\n",
        "minimum = min(my_list)\n",
        "maximum = max(my_list)\n",
        "count = len(my_list)\n",
        "\n",
        "print(\"My list:\", my_list)\n",
        "print(\"Sum:\", total)\n",
        "print(\"Min:\", minimum)\n",
        "print(\"Max:\", maximum)\n",
        "print(\"Count:\", count)\n"
      ],
      "metadata": {
        "colab": {
          "base_uri": "https://localhost:8080/"
        },
        "id": "FA8jW9jFUfF0",
        "outputId": "231c5ada-36c2-4198-aa7c-93c530c64336"
      },
      "id": "FA8jW9jFUfF0",
      "execution_count": null,
      "outputs": [
        {
          "output_type": "stream",
          "name": "stdout",
          "text": [
            "My list: [5, 10, 15, 20, 25, 30, 35, 40, 45, 50]\n",
            "Sum: 275\n",
            "Min: 5\n",
            "Max: 50\n",
            "Count: 10\n"
          ]
        }
      ]
    }
  ],
  "metadata": {
    "colab": {
      "provenance": [],
      "include_colab_link": true
    },
    "language_info": {
      "name": "python"
    },
    "kernelspec": {
      "name": "python3",
      "display_name": "Python 3"
    }
  },
  "nbformat": 4,
  "nbformat_minor": 5
}