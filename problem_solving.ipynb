{
  "nbformat": 4,
  "nbformat_minor": 0,
  "metadata": {
    "colab": {
      "provenance": [],
      "authorship_tag": "ABX9TyMupiOiKqTebsiYhj6hWHgC",
      "include_colab_link": true
    },
    "kernelspec": {
      "name": "python3",
      "display_name": "Python 3"
    },
    "language_info": {
      "name": "python"
    }
  },
  "cells": [
    {
      "cell_type": "markdown",
      "metadata": {
        "id": "view-in-github",
        "colab_type": "text"
      },
      "source": [
        "<a href=\"https://colab.research.google.com/github/sugamkhadka40-rgb/Sugam-Khadka-CPSMA-3933-01/blob/main/problem_solving.ipynb\" target=\"_parent\"><img src=\"https://colab.research.google.com/assets/colab-badge.svg\" alt=\"Open In Colab\"/></a>"
      ]
    },
    {
      "cell_type": "markdown",
      "source": [
        "To find the number of zeros in a factorial, we only need to count the factors of 5 in the numbers from 1 to 1000, since there will always be more factors of 2. We do this by repeatedly dividing the number by powers of 5 and summing the integer results."
      ],
      "metadata": {
        "id": "8BTMZ_mu7c5R"
      }
    },
    {
      "cell_type": "code",
      "source": [
        "import math\n",
        "\n",
        "n = 1000\n",
        "\n",
        "zeros_count = 0\n",
        "\n",
        "i = 5\n",
        "while i <= n:\n",
        "    zeros_count += math.floor(n / i)\n",
        "\n",
        "    i *= 5\n",
        "\n",
        "print(f\"The number of zeros at the end of 1000! is: {zeros_count}\")"
      ],
      "metadata": {
        "colab": {
          "base_uri": "https://localhost:8080/"
        },
        "id": "wE24u1Lf8cb0",
        "outputId": "232fd177-36f1-4693-ed13-444edb8f9974"
      },
      "execution_count": 21,
      "outputs": [
        {
          "output_type": "stream",
          "name": "stdout",
          "text": [
            "The number of zeros at the end of 1000! is: 249\n"
          ]
        }
      ]
    },
    {
      "cell_type": "markdown",
      "source": [
        "The sum of the digits of the number 8,675,309 is 38.\n",
        "\n",
        "To find the sum, you simply add each digit: 8+6+7+5+3+0+9=38."
      ],
      "metadata": {
        "id": "hYao5OPt700z"
      }
    },
    {
      "cell_type": "code",
      "source": [
        "x = '8675309'\n",
        "\n",
        "list_of_x = [int(digit) for digit in x]\n",
        "\n",
        "sum_of_digits = sum(list_of_x)\n",
        "\n",
        "print(f\"The sum of the digits is: {sum_of_digits}\")"
      ],
      "metadata": {
        "colab": {
          "base_uri": "https://localhost:8080/"
        },
        "id": "f1TQ1ETe7vwl",
        "outputId": "2beb5018-05a1-4213-b3e6-11be4a4b14d8"
      },
      "execution_count": 22,
      "outputs": [
        {
          "output_type": "stream",
          "name": "stdout",
          "text": [
            "The sum of the digits is: 38\n"
          ]
        }
      ]
    },
    {
      "cell_type": "markdown",
      "source": [
        "There were 231 handshakes.\n",
        "\n",
        "The puzzle's phrasing \"the two teams of 11 all shake hands\" means every person in the total group of 22 people shakes hands with every other person."
      ],
      "metadata": {
        "id": "5BTgYHNI78Qd"
      }
    },
    {
      "cell_type": "code",
      "source": [
        "import math\n",
        "\n",
        "n = 22\n",
        "\n",
        "handshakes = math.floor((n * (n - 1)) / 2)\n",
        "\n",
        "print(f\"Total handshakes: {handshakes}\")"
      ],
      "metadata": {
        "colab": {
          "base_uri": "https://localhost:8080/"
        },
        "id": "L-WIXVaO760G",
        "outputId": "995e36a5-ed10-4d04-8493-8bca1669db43"
      },
      "execution_count": 23,
      "outputs": [
        {
          "output_type": "stream",
          "name": "stdout",
          "text": [
            "Total handshakes: 231\n"
          ]
        }
      ]
    },
    {
      "cell_type": "markdown",
      "source": [
        "The total is 231. The part about the winning team also shaking hands is already included in this calculation and is meant to be a distraction."
      ],
      "metadata": {
        "id": "ms_eSWyX8BaH"
      }
    },
    {
      "cell_type": "markdown",
      "source": [
        "Mr. Smith shook hands 4 times.\n",
        "\n",
        "This logic puzzle involves 5 couples, making a total of 10 people. No one shakes hands with their spouse. Mr. Smith asked the other 9 people how many hands they shook, and he received 9 different answers. Since a person can shake a maximum of 8 hands (10 people minus themselves and their spouse), the answers must be the integers from 0 to 8.\n",
        "\n",
        "The answers can be paired up: the person who shook 8 hands is a couple with the person who shook 0 hands; the person who shook 7 hands is the spouse of the one who shook 1 hand, and so on. This leaves Mr. Smith and his wife as the only two people who weren't part of these pairs, and the only number not used is 4. For the puzzle to be true, both Mr. and Mrs. Smith must have shaken hands 4 times."
      ],
      "metadata": {
        "id": "9tM-9vrs_A91"
      }
    }
  ]
}