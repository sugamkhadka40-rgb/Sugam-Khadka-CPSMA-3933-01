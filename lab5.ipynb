{
  "nbformat": 4,
  "nbformat_minor": 0,
  "metadata": {
    "colab": {
      "provenance": [],
      "authorship_tag": "ABX9TyNn2Tu6R2llKe0tVGe6j+LM",
      "include_colab_link": true
    },
    "kernelspec": {
      "name": "python3",
      "display_name": "Python 3"
    },
    "language_info": {
      "name": "python"
    }
  },
  "cells": [
    {
      "cell_type": "markdown",
      "metadata": {
        "id": "view-in-github",
        "colab_type": "text"
      },
      "source": [
        "<a href=\"https://colab.research.google.com/github/sugamkhadka40-rgb/Sugam-Khadka-CPSMA-3933-01/blob/main/lab5.ipynb\" target=\"_parent\"><img src=\"https://colab.research.google.com/assets/colab-badge.svg\" alt=\"Open In Colab\"/></a>"
      ]
    },
    {
      "cell_type": "markdown",
      "source": [
        "A. Characteristic EquationThe characteristic equation is found by substituting $f(n) = r^n$:$$r^2 = 7r - 10$$Rearranging the equation:$$r^2 - 7r + 10 = 0$$Factoring the equation:$$(r - 2)(r - 5) = 0$$The distinct roots are $r_1 = 2$ and $r_2 = 5$. Then,B. General SolutionSince the roots are distinct, the general solution is:$$f(n) = \\alpha_1(2)^n + \\alpha_2(5)^n$$C. Finding the Constants $\\alpha_1$ and $\\alpha_2$We use the initial conditions $f(0) = 1$ and $f(1) = 3$.Using $f(0) = 1$ ($n=0$):$$1 = \\alpha_1(2)^0 + \\alpha_2(5)^0$$$$\\alpha_1 + \\alpha_2 = 1 \\quad (\\text{Eq. 1})$$Using $f(1) = 3$ ($n=1$):$$3 = \\alpha_1(2)^1 + \\alpha_2(5)^1$$$$2\\alpha_1 + 5\\alpha_2 = 3 \\quad (\\text{Eq. 2})$$From (Eq. 1), $\\alpha_1 = 1 - \\alpha_2$. Substitute into (Eq. 2):$$2(1 - \\alpha_2) + 5\\alpha_2 = 3$$$$2 - 2\\alpha_2 + 5\\alpha_2 = 3$$$$3\\alpha_2 = 1$$$$\\alpha_2 = \\frac{1}{3}$$Substitute $\\alpha_2 = 1/3$ back into (Eq. 1):$$\\alpha_1 + \\frac{1}{3} = 1$$$$\\alpha_1 = 1 - \\frac{1}{3} = \\frac{2}{3}$$D. Analytic Equation (Closed-Form Solution)The explicit, analytic equation is:$$f(n) = \\frac{2}{3}(2)^n + \\frac{1}{3}(5)^n$$"
      ],
      "metadata": {
        "id": "dmYIN29X8X13"
      }
    },
    {
      "cell_type": "code",
      "source": [
        "import math\n",
        "\n",
        "def f_analytic(n):\n",
        "    \"\"\"\n",
        "    Solves the recurrence using the closed-form equation.\n",
        "    \"\"\"\n",
        "    if n < 0:\n",
        "        raise ValueError(\"n must be non-negative\")\n",
        "\n",
        "    result = (2/3) * (2**n) + (1/3) * (5**n)\n",
        "    return round(result)\n",
        "\n",
        "n_value = 5\n",
        "print(f\"f_analytic({n_value}) = {f_analytic(n_value)}\")"
      ],
      "metadata": {
        "colab": {
          "base_uri": "https://localhost:8080/"
        },
        "id": "VG34eI6x9UyD",
        "outputId": "046fd6f1-c69b-4556-c3b1-8e0436191097"
      },
      "execution_count": 18,
      "outputs": [
        {
          "output_type": "stream",
          "name": "stdout",
          "text": [
            "f_analytic(5) = 1063\n"
          ]
        }
      ]
    },
    {
      "cell_type": "markdown",
      "source": [
        "Dynamic Programming"
      ],
      "metadata": {
        "id": "5_ziOLkf9hF1"
      }
    },
    {
      "cell_type": "code",
      "source": [
        "def f_dp(n):\n",
        "    \"\"\"\n",
        "    Solves the recurrence using a bottom-up Dynamic Programming approach.\n",
        "    \"\"\"\n",
        "    if n == 0:\n",
        "        return 1\n",
        "    if n == 1:\n",
        "        return 3\n",
        "\n",
        "    dp_table = [0] * (n + 1)\n",
        "    dp_table[0] = 1\n",
        "    dp_table[1] = 3\n",
        "\n",
        "    for i in range(2, n + 1):\n",
        "        dp_table[i] = 7 * dp_table[i-1] - 10 * dp_table[i-2]\n",
        "\n",
        "    return dp_table[n]\n",
        "\n",
        "n_value = 5\n",
        "print(f\"f_dp({n_value}) = {f_dp(n_value)}\")"
      ],
      "metadata": {
        "colab": {
          "base_uri": "https://localhost:8080/"
        },
        "id": "cp20lOW89f8q",
        "outputId": "3ef97e31-59c6-4284-98d2-b4b0e343f9c5"
      },
      "execution_count": 16,
      "outputs": [
        {
          "output_type": "stream",
          "name": "stdout",
          "text": [
            "f_dp(5) = 1063\n"
          ]
        }
      ]
    },
    {
      "cell_type": "markdown",
      "source": [
        "Dynamic Programming with Memoization"
      ],
      "metadata": {
        "id": "F9jKvyqp9uN-"
      }
    },
    {
      "cell_type": "code",
      "source": [
        "memo = {0: 1, 1: 3}\n",
        "\n",
        "def f_memo(n):\n",
        "    \"\"\"\n",
        "    Solves the recurrence using recursion with memoization.\n",
        "    \"\"\"\n",
        "    if n in memo:\n",
        "        return memo[n]\n",
        "\n",
        "    if n < 0:\n",
        "        raise ValueError(\"n must be non-negative\")\n",
        "\n",
        "    result = 7 * f_memo(n-1) - 10 * f_memo(n-2)\n",
        "\n",
        "    memo[n] = result\n",
        "    return result\n",
        "\n",
        "n_value = 5\n",
        "print(f\"f_memo({n_value}) = {f_memo(n_value)}\")"
      ],
      "metadata": {
        "colab": {
          "base_uri": "https://localhost:8080/"
        },
        "id": "VfYfLgPG9xLn",
        "outputId": "a183774a-42c8-4776-a25e-1bc7bb31ecb3"
      },
      "execution_count": 17,
      "outputs": [
        {
          "output_type": "stream",
          "name": "stdout",
          "text": [
            "f_memo(5) = 1063\n"
          ]
        }
      ]
    },
    {
      "cell_type": "markdown",
      "source": [
        "The three methods—Analytic, Dynamic Programming (Bottom-Up), and Memoization (Top-Down)—offer distinct trade-offs in solving this recurrence relation. The Analytic Method is the fastest for calculating a single, large entry like $f(1000)$, as it involves a direct, $O(1)$ calculation without iteration; however, it is mathematically the most difficult to derive and risks precision loss or overflow when dealing with extremely large numbers like $f(1000)$ due to reliance on floating-point arithmetic. Conversely, the algorithmic methods are easier to implement: the Dynamic Programming (Bottom-Up) method is the most robust, offering guaranteed $O(n)$ time complexity and completely avoiding recursion overhead, which is crucial for large $n$ like 1000. It requires computing all values up to $n$ but handles the large integer results exactly due to Python's arbitrary-precision integers. The Memoization (Top-Down) method is perhaps the most natural to write, as it directly translates the recurrence into code, but it shares the $O(n)$ time and space complexity of the DP approach and suffers from high function-call overhead and a significant risk of a stack overflow error when attempting to calculate the 1000th term, unless the program's recursion limit is explicitly increased. In summary, for quick calculation of a guaranteed exact, large term, Dynamic Programming (Bottom-Up) is the preferred algorithmic choice, while the Analytic Method is the fastest if its implementation can handle the extreme magnitude of the result."
      ],
      "metadata": {
        "id": "sWs8jzuS-a7y"
      }
    }
  ]
}